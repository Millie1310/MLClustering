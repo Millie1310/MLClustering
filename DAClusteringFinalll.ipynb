{
 "cells": [
  {
   "cell_type": "markdown",
   "id": "3b0931d4-e55e-4fc6-981f-84b34eecf59a",
   "metadata": {},
   "source": [
    "# *Clustering Model to Group Days Based on Activity and Sleep Data*"
   ]
  },
  {
   "cell_type": "markdown",
   "id": "727d6a76-fa53-4b93-a8b9-03c3462bf1e7",
   "metadata": {},
   "source": [
    "### Import necessary libraries"
   ]
  },
  {
   "cell_type": "code",
   "execution_count": 1,
   "id": "babd6fdd-fa54-4d76-b38f-b336283231af",
   "metadata": {},
   "outputs": [],
   "source": [
    "import pandas as pd\n",
    "import matplotlib.pyplot as plt\n",
    "import seaborn as sns\n",
    "from sklearn.cluster import KMeans\n",
    "from sklearn.preprocessing import StandardScaler"
   ]
  },
  {
   "cell_type": "markdown",
   "id": "20d975b2-97b3-41ab-96d4-b97943773d05",
   "metadata": {},
   "source": [
    "### Load and Explore the Data"
   ]
  },
  {
   "cell_type": "code",
   "execution_count": 3,
   "id": "eaa8c302-6901-4568-bde4-30fe159efaf7",
   "metadata": {},
   "outputs": [
    {
     "data": {
      "text/html": [
       "<div>\n",
       "<style scoped>\n",
       "    .dataframe tbody tr th:only-of-type {\n",
       "        vertical-align: middle;\n",
       "    }\n",
       "\n",
       "    .dataframe tbody tr th {\n",
       "        vertical-align: top;\n",
       "    }\n",
       "\n",
       "    .dataframe thead th {\n",
       "        text-align: right;\n",
       "    }\n",
       "</style>\n",
       "<table border=\"1\" class=\"dataframe\">\n",
       "  <thead>\n",
       "    <tr style=\"text-align: right;\">\n",
       "      <th></th>\n",
       "      <th>Full_date</th>\n",
       "      <th>Day_Name</th>\n",
       "      <th>steps</th>\n",
       "      <th>Activity</th>\n",
       "      <th>distance</th>\n",
       "      <th>runDistance</th>\n",
       "      <th>calories</th>\n",
       "      <th>Year</th>\n",
       "      <th>Month Name</th>\n",
       "      <th>DayType</th>\n",
       "      <th>Full_date (Quarter)</th>\n",
       "      <th>Full_date (Month Index)</th>\n",
       "      <th>Full_date (Month)</th>\n",
       "      <th>deepSleepTime</th>\n",
       "      <th>shallowSleepTime</th>\n",
       "      <th>wakeTime</th>\n",
       "      <th>start</th>\n",
       "      <th>stop</th>\n",
       "    </tr>\n",
       "  </thead>\n",
       "  <tbody>\n",
       "    <tr>\n",
       "      <th>0</th>\n",
       "      <td>01-May-16</td>\n",
       "      <td>Sunday</td>\n",
       "      <td>3869</td>\n",
       "      <td>Low</td>\n",
       "      <td>2651</td>\n",
       "      <td>0</td>\n",
       "      <td>244</td>\n",
       "      <td>2016</td>\n",
       "      <td>May</td>\n",
       "      <td>Weekend</td>\n",
       "      <td>Qtr2</td>\n",
       "      <td>5</td>\n",
       "      <td>May</td>\n",
       "      <td>0</td>\n",
       "      <td>0</td>\n",
       "      <td>0</td>\n",
       "      <td>1461708000</td>\n",
       "      <td>1461708000</td>\n",
       "    </tr>\n",
       "    <tr>\n",
       "      <th>1</th>\n",
       "      <td>08-May-16</td>\n",
       "      <td>Sunday</td>\n",
       "      <td>4088</td>\n",
       "      <td>Low</td>\n",
       "      <td>3119</td>\n",
       "      <td>0</td>\n",
       "      <td>197</td>\n",
       "      <td>2016</td>\n",
       "      <td>May</td>\n",
       "      <td>Weekend</td>\n",
       "      <td>Qtr2</td>\n",
       "      <td>5</td>\n",
       "      <td>May</td>\n",
       "      <td>158</td>\n",
       "      <td>262</td>\n",
       "      <td>2</td>\n",
       "      <td>1461801240</td>\n",
       "      <td>1461826560</td>\n",
       "    </tr>\n",
       "    <tr>\n",
       "      <th>2</th>\n",
       "      <td>09-May-16</td>\n",
       "      <td>Monday</td>\n",
       "      <td>1958</td>\n",
       "      <td>Low</td>\n",
       "      <td>1266</td>\n",
       "      <td>0</td>\n",
       "      <td>134</td>\n",
       "      <td>2016</td>\n",
       "      <td>May</td>\n",
       "      <td>Weekday</td>\n",
       "      <td>Qtr2</td>\n",
       "      <td>5</td>\n",
       "      <td>May</td>\n",
       "      <td>234</td>\n",
       "      <td>241</td>\n",
       "      <td>0</td>\n",
       "      <td>1461883500</td>\n",
       "      <td>1461912000</td>\n",
       "    </tr>\n",
       "    <tr>\n",
       "      <th>3</th>\n",
       "      <td>11-May-16</td>\n",
       "      <td>Wednesday</td>\n",
       "      <td>2569</td>\n",
       "      <td>Low</td>\n",
       "      <td>1661</td>\n",
       "      <td>0</td>\n",
       "      <td>198</td>\n",
       "      <td>2016</td>\n",
       "      <td>May</td>\n",
       "      <td>Weekday</td>\n",
       "      <td>Qtr2</td>\n",
       "      <td>5</td>\n",
       "      <td>May</td>\n",
       "      <td>239</td>\n",
       "      <td>318</td>\n",
       "      <td>0</td>\n",
       "      <td>1461979500</td>\n",
       "      <td>1462012920</td>\n",
       "    </tr>\n",
       "    <tr>\n",
       "      <th>4</th>\n",
       "      <td>13-May-16</td>\n",
       "      <td>Friday</td>\n",
       "      <td>4276</td>\n",
       "      <td>Low</td>\n",
       "      <td>2809</td>\n",
       "      <td>0</td>\n",
       "      <td>251</td>\n",
       "      <td>2016</td>\n",
       "      <td>May</td>\n",
       "      <td>Weekday</td>\n",
       "      <td>Qtr2</td>\n",
       "      <td>5</td>\n",
       "      <td>May</td>\n",
       "      <td>180</td>\n",
       "      <td>333</td>\n",
       "      <td>3</td>\n",
       "      <td>1462065840</td>\n",
       "      <td>1462096800</td>\n",
       "    </tr>\n",
       "  </tbody>\n",
       "</table>\n",
       "</div>"
      ],
      "text/plain": [
       "   Full_date   Day_Name  steps Activity  distance  runDistance  calories  \\\n",
       "0  01-May-16     Sunday   3869      Low      2651            0       244   \n",
       "1  08-May-16     Sunday   4088      Low      3119            0       197   \n",
       "2  09-May-16     Monday   1958      Low      1266            0       134   \n",
       "3  11-May-16  Wednesday   2569      Low      1661            0       198   \n",
       "4  13-May-16     Friday   4276      Low      2809            0       251   \n",
       "\n",
       "   Year Month Name  DayType Full_date (Quarter)  Full_date (Month Index)  \\\n",
       "0  2016        May  Weekend                Qtr2                        5   \n",
       "1  2016        May  Weekend                Qtr2                        5   \n",
       "2  2016        May  Weekday                Qtr2                        5   \n",
       "3  2016        May  Weekday                Qtr2                        5   \n",
       "4  2016        May  Weekday                Qtr2                        5   \n",
       "\n",
       "  Full_date (Month)  deepSleepTime  shallowSleepTime  wakeTime       start  \\\n",
       "0               May              0                 0         0  1461708000   \n",
       "1               May            158               262         2  1461801240   \n",
       "2               May            234               241         0  1461883500   \n",
       "3               May            239               318         0  1461979500   \n",
       "4               May            180               333         3  1462065840   \n",
       "\n",
       "         stop  \n",
       "0  1461708000  \n",
       "1  1461826560  \n",
       "2  1461912000  \n",
       "3  1462012920  \n",
       "4  1462096800  "
      ]
     },
     "execution_count": 3,
     "metadata": {},
     "output_type": "execute_result"
    }
   ],
   "source": [
    "df = pd.read_csv(\"MySteps.csv\" )\n",
    "df.head()"
   ]
  },
  {
   "cell_type": "markdown",
   "id": "3f8ee4ed-97d3-4916-8aeb-ec909d827c9b",
   "metadata": {},
   "source": [
    "### EDA"
   ]
  },
  {
   "cell_type": "code",
   "execution_count": 6,
   "id": "3b53373d-37d7-4da3-a404-f5dded481aec",
   "metadata": {},
   "outputs": [
    {
     "name": "stdout",
     "output_type": "stream",
     "text": [
      "Full_date                  0\n",
      "Day_Name                   0\n",
      "steps                      0\n",
      "Activity                   0\n",
      "distance                   0\n",
      "runDistance                0\n",
      "calories                   0\n",
      "Year                       0\n",
      "Month Name                 0\n",
      "DayType                    0\n",
      "Full_date (Quarter)        0\n",
      "Full_date (Month Index)    0\n",
      "Full_date (Month)          0\n",
      "deepSleepTime              0\n",
      "shallowSleepTime           0\n",
      "wakeTime                   0\n",
      "start                      0\n",
      "stop                       0\n",
      "dtype: int64\n"
     ]
    }
   ],
   "source": [
    "print(df.isnull().sum())"
   ]
  },
  {
   "cell_type": "code",
   "execution_count": 8,
   "id": "7e6d628d-40f9-47b2-abe6-bc9239fb70dc",
   "metadata": {},
   "outputs": [
    {
     "data": {
      "text/plain": [
       "<bound method DataFrame.info of       Full_date   Day_Name  steps  Activity  distance  runDistance  calories  \\\n",
       "0     01-May-16     Sunday   3869       Low      2651            0       244   \n",
       "1     08-May-16     Sunday   4088       Low      3119            0       197   \n",
       "2     09-May-16     Monday   1958       Low      1266            0       134   \n",
       "3     11-May-16  Wednesday   2569       Low      1661            0       198   \n",
       "4     13-May-16     Friday   4276       Low      2809            0       251   \n",
       "...         ...        ...    ...       ...       ...          ...       ...   \n",
       "2449  10-Oct-22     Monday   6497  Moderate      4735         3727       228   \n",
       "2450  17-Oct-22     Monday   8660  Moderate      6181         4954       285   \n",
       "2451  24-Oct-22     Monday   8192  Moderate      5900         4632       547   \n",
       "2452  21-Nov-22     Monday   6923  Moderate      4708         3735       246   \n",
       "2453  02-Jan-23     Monday   8093  Moderate      5795         4504       284   \n",
       "\n",
       "      Year Month Name  DayType Full_date (Quarter)  Full_date (Month Index)  \\\n",
       "0     2016        May  Weekend                Qtr2                        5   \n",
       "1     2016        May  Weekend                Qtr2                        5   \n",
       "2     2016        May  Weekday                Qtr2                        5   \n",
       "3     2016        May  Weekday                Qtr2                        5   \n",
       "4     2016        May  Weekday                Qtr2                        5   \n",
       "...    ...        ...      ...                 ...                      ...   \n",
       "2449  2022    October  Weekday                Qtr4                       10   \n",
       "2450  2022    October  Weekday                Qtr4                       10   \n",
       "2451  2022    October  Weekday                Qtr4                       10   \n",
       "2452  2022   November  Weekday                Qtr4                       11   \n",
       "2453  2023    January  Weekday                Qtr1                        1   \n",
       "\n",
       "     Full_date (Month)  deepSleepTime  shallowSleepTime  wakeTime  \\\n",
       "0                  May              0                 0         0   \n",
       "1                  May            158               262         2   \n",
       "2                  May            234               241         0   \n",
       "3                  May            239               318         0   \n",
       "4                  May            180               333         3   \n",
       "...                ...            ...               ...       ...   \n",
       "2449               Oct             85               261         0   \n",
       "2450               Oct             60               251         0   \n",
       "2451               Oct             75               183        13   \n",
       "2452               Nov             86               253         0   \n",
       "2453               Jan            110               307        11   \n",
       "\n",
       "                         start                      stop  \n",
       "0                   1461708000                1461708000  \n",
       "1                   1461801240                1461826560  \n",
       "2                   1461883500                1461912000  \n",
       "3                   1461979500                1462012920  \n",
       "4                   1462065840                1462096800  \n",
       "...                        ...                       ...  \n",
       "2449  2023-01-10 01:29:00+0000  2023-01-10 08:05:00+0000  \n",
       "2450  2023-01-11 02:14:00+0000  2023-01-11 08:29:00+0000  \n",
       "2451  2023-01-12 02:15:00+0000  2023-01-12 08:25:00+0000  \n",
       "2452  2023-01-13 00:02:00+0000  2023-01-13 07:07:00+0000  \n",
       "2453  2023-01-14 01:28:00+0000  2023-01-14 10:25:00+0000  \n",
       "\n",
       "[2454 rows x 18 columns]>"
      ]
     },
     "execution_count": 8,
     "metadata": {},
     "output_type": "execute_result"
    }
   ],
   "source": [
    "df.info"
   ]
  },
  {
   "cell_type": "markdown",
   "id": "3d2ec4ed-cc3c-4dc5-989b-6a8b12cc8486",
   "metadata": {},
   "source": [
    "###  Data Preprocessing"
   ]
  },
  {
   "cell_type": "code",
   "execution_count": 10,
   "id": "b614c18f-f761-41ab-9347-114a401437e5",
   "metadata": {},
   "outputs": [
    {
     "data": {
      "text/html": [
       "<div>\n",
       "<style scoped>\n",
       "    .dataframe tbody tr th:only-of-type {\n",
       "        vertical-align: middle;\n",
       "    }\n",
       "\n",
       "    .dataframe tbody tr th {\n",
       "        vertical-align: top;\n",
       "    }\n",
       "\n",
       "    .dataframe thead th {\n",
       "        text-align: right;\n",
       "    }\n",
       "</style>\n",
       "<table border=\"1\" class=\"dataframe\">\n",
       "  <thead>\n",
       "    <tr style=\"text-align: right;\">\n",
       "      <th></th>\n",
       "      <th>steps</th>\n",
       "      <th>distance</th>\n",
       "      <th>runDistance</th>\n",
       "      <th>deepSleepTime</th>\n",
       "      <th>shallowSleepTime</th>\n",
       "      <th>wakeTime</th>\n",
       "    </tr>\n",
       "  </thead>\n",
       "  <tbody>\n",
       "    <tr>\n",
       "      <th>0</th>\n",
       "      <td>-0.659195</td>\n",
       "      <td>-0.678407</td>\n",
       "      <td>-0.452894</td>\n",
       "      <td>-1.469155</td>\n",
       "      <td>-1.777284</td>\n",
       "      <td>-0.175450</td>\n",
       "    </tr>\n",
       "    <tr>\n",
       "      <th>1</th>\n",
       "      <td>-0.626340</td>\n",
       "      <td>-0.582331</td>\n",
       "      <td>-0.452894</td>\n",
       "      <td>0.709661</td>\n",
       "      <td>0.205467</td>\n",
       "      <td>-0.093990</td>\n",
       "    </tr>\n",
       "    <tr>\n",
       "      <th>2</th>\n",
       "      <td>-0.945893</td>\n",
       "      <td>-0.962736</td>\n",
       "      <td>-0.452894</td>\n",
       "      <td>1.757699</td>\n",
       "      <td>0.046544</td>\n",
       "      <td>-0.175450</td>\n",
       "    </tr>\n",
       "    <tr>\n",
       "      <th>3</th>\n",
       "      <td>-0.854227</td>\n",
       "      <td>-0.881646</td>\n",
       "      <td>-0.452894</td>\n",
       "      <td>1.826649</td>\n",
       "      <td>0.629261</td>\n",
       "      <td>-0.175450</td>\n",
       "    </tr>\n",
       "    <tr>\n",
       "      <th>4</th>\n",
       "      <td>-0.598135</td>\n",
       "      <td>-0.645971</td>\n",
       "      <td>-0.452894</td>\n",
       "      <td>1.013040</td>\n",
       "      <td>0.742778</td>\n",
       "      <td>-0.053261</td>\n",
       "    </tr>\n",
       "  </tbody>\n",
       "</table>\n",
       "</div>"
      ],
      "text/plain": [
       "      steps  distance  runDistance  deepSleepTime  shallowSleepTime  wakeTime\n",
       "0 -0.659195 -0.678407    -0.452894      -1.469155         -1.777284 -0.175450\n",
       "1 -0.626340 -0.582331    -0.452894       0.709661          0.205467 -0.093990\n",
       "2 -0.945893 -0.962736    -0.452894       1.757699          0.046544 -0.175450\n",
       "3 -0.854227 -0.881646    -0.452894       1.826649          0.629261 -0.175450\n",
       "4 -0.598135 -0.645971    -0.452894       1.013040          0.742778 -0.053261"
      ]
     },
     "execution_count": 10,
     "metadata": {},
     "output_type": "execute_result"
    }
   ],
   "source": [
    "features = ['steps', 'distance', 'runDistance', 'deepSleepTime', 'shallowSleepTime', 'wakeTime']\n",
    "\n",
    "scaler = StandardScaler()\n",
    "df_scaled = scaler.fit_transform(df[features])\n",
    "df_scaled = pd.DataFrame(df_scaled, columns=features)\n",
    "df_scaled.head()"
   ]
  },
  {
   "cell_type": "markdown",
   "id": "f90076ee-956e-4e76-bf34-7b5fc9411190",
   "metadata": {},
   "source": [
    "### Find the Optimal Number of Clusters (K)"
   ]
  },
  {
   "cell_type": "code",
   "execution_count": 14,
   "id": "6a708c44-96fc-4f6b-b473-c8bbb3431aab",
   "metadata": {},
   "outputs": [
    {
     "data": {
      "image/png": "[encoded data removed]",
      "text/plain": [
       "<Figure size 800x500 with 1 Axes>"
      ]
     },
     "metadata": {},
     "output_type": "display_data"
    }
   ],
   "source": [
    "inertia = []\n",
    "K_range = range(1, 11)\n",
    "\n",
    "for k in K_range:\n",
    "    kmeans = KMeans(n_clusters=k, random_state=42, n_init=10)\n",
    "    kmeans.fit(df_scaled)\n",
    "    inertia.append(kmeans.inertia_)\n",
    "\n",
    "# Plot the Elbow Curve\n",
    "plt.figure(figsize=(8, 5))\n",
    "plt.plot(K_range, inertia, marker='o')\n",
    "plt.xlabel(\"Number of Clusters (K)\")\n",
    "plt.ylabel(\"Inertia\")\n",
    "plt.title(\"Elbow Method for Optimal K\")\n",
    "plt.show()"
   ]
  },
  {
   "cell_type": "markdown",
   "id": "7923237f-87cd-45cd-8ea0-38671882217f",
   "metadata": {},
   "source": [
    "### Train K-Means Model"
   ]
  },
  {
   "cell_type": "code",
   "execution_count": 16,
   "id": "aa8252b5-cb1c-45aa-890e-71cec1953771",
   "metadata": {},
   "outputs": [
    {
     "data": {
      "text/html": [
       "<div>\n",
       "<style scoped>\n",
       "    .dataframe tbody tr th:only-of-type {\n",
       "        vertical-align: middle;\n",
       "    }\n",
       "\n",
       "    .dataframe tbody tr th {\n",
       "        vertical-align: top;\n",
       "    }\n",
       "\n",
       "    .dataframe thead th {\n",
       "        text-align: right;\n",
       "    }\n",
       "</style>\n",
       "<table border=\"1\" class=\"dataframe\">\n",
       "  <thead>\n",
       "    <tr style=\"text-align: right;\">\n",
       "      <th></th>\n",
       "      <th>steps</th>\n",
       "      <th>distance</th>\n",
       "      <th>runDistance</th>\n",
       "      <th>deepSleepTime</th>\n",
       "      <th>shallowSleepTime</th>\n",
       "      <th>wakeTime</th>\n",
       "      <th>Cluster</th>\n",
       "    </tr>\n",
       "  </thead>\n",
       "  <tbody>\n",
       "    <tr>\n",
       "      <th>0</th>\n",
       "      <td>3869</td>\n",
       "      <td>2651</td>\n",
       "      <td>0</td>\n",
       "      <td>0</td>\n",
       "      <td>0</td>\n",
       "      <td>0</td>\n",
       "      <td>2</td>\n",
       "    </tr>\n",
       "    <tr>\n",
       "      <th>1</th>\n",
       "      <td>4088</td>\n",
       "      <td>3119</td>\n",
       "      <td>0</td>\n",
       "      <td>158</td>\n",
       "      <td>262</td>\n",
       "      <td>2</td>\n",
       "      <td>0</td>\n",
       "    </tr>\n",
       "    <tr>\n",
       "      <th>2</th>\n",
       "      <td>1958</td>\n",
       "      <td>1266</td>\n",
       "      <td>0</td>\n",
       "      <td>234</td>\n",
       "      <td>241</td>\n",
       "      <td>0</td>\n",
       "      <td>0</td>\n",
       "    </tr>\n",
       "    <tr>\n",
       "      <th>3</th>\n",
       "      <td>2569</td>\n",
       "      <td>1661</td>\n",
       "      <td>0</td>\n",
       "      <td>239</td>\n",
       "      <td>318</td>\n",
       "      <td>0</td>\n",
       "      <td>0</td>\n",
       "    </tr>\n",
       "    <tr>\n",
       "      <th>4</th>\n",
       "      <td>4276</td>\n",
       "      <td>2809</td>\n",
       "      <td>0</td>\n",
       "      <td>180</td>\n",
       "      <td>333</td>\n",
       "      <td>3</td>\n",
       "      <td>0</td>\n",
       "    </tr>\n",
       "  </tbody>\n",
       "</table>\n",
       "</div>"
      ],
      "text/plain": [
       "   steps  distance  runDistance  deepSleepTime  shallowSleepTime  wakeTime  \\\n",
       "0   3869      2651            0              0                 0         0   \n",
       "1   4088      3119            0            158               262         2   \n",
       "2   1958      1266            0            234               241         0   \n",
       "3   2569      1661            0            239               318         0   \n",
       "4   4276      2809            0            180               333         3   \n",
       "\n",
       "   Cluster  \n",
       "0        2  \n",
       "1        0  \n",
       "2        0  \n",
       "3        0  \n",
       "4        0  "
      ]
     },
     "execution_count": 16,
     "metadata": {},
     "output_type": "execute_result"
    }
   ],
   "source": [
    "optimal_k = 3  \n",
    "# Train K-Means\n",
    "kmeans = KMeans(n_clusters=optimal_k, random_state=42, n_init=10)\n",
    "df['Cluster'] = kmeans.fit_predict(df_scaled)\n",
    "\n",
    "df[['steps', 'distance', 'runDistance', 'deepSleepTime', 'shallowSleepTime', 'wakeTime', 'Cluster']].head()"
   ]
  },
  {
   "cell_type": "markdown",
   "id": "6710cf97-8c32-45a6-912c-cb78cdbb0a4b",
   "metadata": {},
   "source": [
    "###  Visualization"
   ]
  },
  {
   "cell_type": "code",
   "execution_count": 18,
   "id": "b22e8b8f-9ba3-47c5-97f9-524b0e31635c",
   "metadata": {},
   "outputs": [
    {
     "data": {
      "image/png": "[encoded data removed]",
      "text/plain": [
       "<Figure size 800x500 with 1 Axes>"
      ]
     },
     "metadata": {},
     "output_type": "display_data"
    }
   ],
   "source": [
    "plt.figure(figsize=(8, 5))\n",
    "sns.scatterplot(x=df['steps'], y=df['distance'], hue=df['Cluster'], palette=\"viridis\")\n",
    "plt.xlabel(\"Steps\")\n",
    "plt.ylabel(\"Distance\")\n",
    "plt.title(\"Clustering of Activity Data\")\n",
    "plt.show()"
   ]
  },
  {
   "cell_type": "markdown",
   "id": "b10a3d21-fe87-4991-9f52-5de953bf9828",
   "metadata": {},
   "source": [
    "### Summary"
   ]
  },
  {
   "cell_type": "markdown",
   "id": "fcd183db-1357-4829-925a-ddb0ee53fc1c",
   "metadata": {},
   "source": [
    "- This notebook focuses on grouping days based on activity and sleep patterns using **K-Means** Clustering. The goal is to identify patterns in daily behavior based on movement and rest.\n",
    "\n",
    "- The dataset is preprocessed by handling missing values, selecting relevant features, and scaling the data for better clustering results.\n",
    "\n",
    "- The **Elbow Method** is used to determine the optimal number of clusters, which was found to be X. Based on clustering results, the days are grouped as follows:\n",
    "\n",
    "- **Cluster 0**: Days with low activity and less sleep\n",
    "- **Cluster 1**: Days with moderate activity and balanced sleep\n",
    "- **Cluster 2**: Days with high activity and longer sleep\n",
    "- A scatter plot is used to visualize the clusters, with different colors representing each group. This helps in understanding how different days vary in terms of activity and sleep.\n",
    "\n",
    "- By identifying these patterns, this analysis can be useful for tracking fitness trends and optimizing sleep habits."
   ]
  },
  {
   "cell_type": "code",
   "execution_count": null,
   "id": "75001d5d-c5d2-4ecb-98ad-7441eb8c405a",
   "metadata": {},
   "outputs": [],
   "source": []
  },
  {
   "cell_type": "code",
   "execution_count": null,
   "id": "da8ccbf0-4c15-4387-bdbf-7af1c30edd7a",
   "metadata": {},
   "outputs": [],
   "source": []
  }
 ],
 "metadata": {
  "kernelspec": {
   "display_name": "Python 3 (ipykernel)",
   "language": "python",
   "name": "python3"
  },
  "language_info": {
   "codemirror_mode": {
    "name": "ipython",
    "version": 3
   },
   "file_extension": ".py",
   "mimetype": "text/x-python",
   "name": "python",
   "nbconvert_exporter": "python",
   "pygments_lexer": "ipython3",
   "version": "3.12.7"
  }
 },
 "nbformat": 4,
 "nbformat_minor": 5
}
